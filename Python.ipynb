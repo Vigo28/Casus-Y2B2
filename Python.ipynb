{
 "cells": [
  {
   "cell_type": "code",
   "execution_count": 2,
   "metadata": {},
   "outputs": [
    {
     "name": "stdout",
     "output_type": "stream",
     "text": [
      "       WAP001  WAP002  WAP003  WAP004  WAP005  WAP006  WAP007  WAP008  WAP009  \\\n",
      "0         100     100     100     100     100     100     100     100     100   \n",
      "1         100     100     100     100     100     100     100     100     100   \n",
      "2         100     100     100     100     100     100     100     -97     100   \n",
      "3         100     100     100     100     100     100     100     100     100   \n",
      "4         100     100     100     100     100     100     100     100     100   \n",
      "...       ...     ...     ...     ...     ...     ...     ...     ...     ...   \n",
      "19932     100     100     100     100     100     100     100     100     100   \n",
      "19933     100     100     100     100     100     100     100     100     100   \n",
      "19934     100     100     100     100     100     100     100     100     100   \n",
      "19935     100     100     100     100     100     100     100     100     100   \n",
      "19936     100     100     100     100     100     100     100     100     100   \n",
      "\n",
      "       WAP010  ...  WAP520  LONGITUDE      LATITUDE  FLOOR  BUILDINGID  \\\n",
      "0         100  ...     100 -7541.2643  4.864921e+06      2           1   \n",
      "1         100  ...     100 -7536.6212  4.864934e+06      2           1   \n",
      "2         100  ...     100 -7519.1524  4.864950e+06      2           1   \n",
      "3         100  ...     100 -7524.5704  4.864934e+06      2           1   \n",
      "4         100  ...     100 -7632.1436  4.864982e+06      0           0   \n",
      "...       ...  ...     ...        ...           ...    ...         ...   \n",
      "19932     100  ...     100 -7485.4686  4.864875e+06      3           1   \n",
      "19933     100  ...     100 -7390.6206  4.864836e+06      1           2   \n",
      "19934     100  ...     100 -7516.8415  4.864889e+06      3           1   \n",
      "19935     100  ...     100 -7537.3219  4.864896e+06      3           1   \n",
      "19936     100  ...     100 -7536.1658  4.864898e+06      3           1   \n",
      "\n",
      "       SPACEID  RELATIVEPOSITION  USERID  PHONEID   TIMESTAMP  \n",
      "0          106                 2       2       23  1371713733  \n",
      "1          106                 2       2       23  1371713691  \n",
      "2          103                 2       2       23  1371714095  \n",
      "3          102                 2       2       23  1371713807  \n",
      "4          122                 2      11       13  1369909710  \n",
      "...        ...               ...     ...      ...         ...  \n",
      "19932        1                 2      18       10  1371710683  \n",
      "19933      140                 2      18       10  1371710402  \n",
      "19934       13                 2      18       10  1371710921  \n",
      "19935      113                 2      18       10  1371711049  \n",
      "19936      112                 2      18       10  1371711025  \n",
      "\n",
      "[19937 rows x 529 columns]\n"
     ]
    }
   ],
   "source": [
    "import pandas as pd\n",
    "\n",
    "# Load data\n",
    "table_df = pd.read_csv('CasusData.csv')\n",
    "table_df.shape   #find dimension of data frame\n",
    "table_df.head()  #show the 1st five rows\n",
    "table_df = table_df.dropna()\n",
    "print(table_df)  #show all the data"
   ]
  }
 ],
 "metadata": {
  "kernelspec": {
   "display_name": "Python 3 (ipykernel)",
   "language": "python",
   "name": "python3"
  },
  "language_info": {
   "codemirror_mode": {
    "name": "ipython",
    "version": 3
   },
   "file_extension": ".py",
   "mimetype": "text/x-python",
   "name": "python",
   "nbconvert_exporter": "python",
   "pygments_lexer": "ipython3",
   "version": "3.11.7"
  }
 },
 "nbformat": 4,
 "nbformat_minor": 2
}
